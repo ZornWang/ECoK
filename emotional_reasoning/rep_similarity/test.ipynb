{
 "cells": [
  {
   "cell_type": "code",
   "execution_count": 2,
   "metadata": {},
   "outputs": [
    {
     "name": "stdout",
     "output_type": "stream",
     "text": [
      "metric_0--{'weighted_f1': 57.18, 'micro_f1': 57.71, 'macro_f1': 53.07}\n",
      "metric_1--{'weighted_f1': 63.41, 'micro_f1': 64.12, 'macro_f1': 62.55}\n",
      "metric_2--{'weighted_f1': 66.09, 'micro_f1': 66.77, 'macro_f1': 63.27}\n",
      "metric_3--{'weighted_f1': 69.93, 'micro_f1': 69.61, 'macro_f1': 68.96}\n",
      "metric_4--{'weighted_f1': 67.89, 'micro_f1': 67.94, 'macro_f1': 66.94}\n",
      "metric_5--{'weighted_f1': 69.49, 'micro_f1': 69.24, 'macro_f1': 68.3}\n",
      "metric_6--{'weighted_f1': 69.75, 'micro_f1': 69.67, 'macro_f1': 68.92}\n",
      "metric_7--{'weighted_f1': 69.66, 'micro_f1': 69.61, 'macro_f1': 68.3}\n",
      "metric_8--{'weighted_f1': 70.09, 'micro_f1': 69.98, 'macro_f1': 68.97}\n",
      "metric_9--{'weighted_f1': 69.68, 'micro_f1': 69.54, 'macro_f1': 68.7}\n"
     ]
    }
   ],
   "source": [
    "import pickle\n",
    "data_path='./IEMOCAP/metric_{}.pkl'\n",
    "for i in range(10):\n",
    "    print('metric_{}'.format(i),end='--')\n",
    "    data=pickle.load(open(data_path.format(i),'rb'))\n",
    "    print(data)\n"
   ]
  }
 ],
 "metadata": {
  "kernelspec": {
   "display_name": "base",
   "language": "python",
   "name": "python3"
  },
  "language_info": {
   "codemirror_mode": {
    "name": "ipython",
    "version": 3
   },
   "file_extension": ".py",
   "mimetype": "text/x-python",
   "name": "python",
   "nbconvert_exporter": "python",
   "pygments_lexer": "ipython3",
   "version": "3.11.5"
  }
 },
 "nbformat": 4,
 "nbformat_minor": 2
}
